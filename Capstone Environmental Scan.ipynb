{
 "cells": [
  {
   "cell_type": "markdown",
   "metadata": {},
   "source": [
    "# Project Scope\n",
    "\n",
    "The project purpose: by analyzing the stock and CDS price to predict the next financial crash <br>\n",
    "Role: working as the project manager in charge of the team with 9 members <br>\n",
    "Week1: collecting data from the platform and consolidate all together <br>\n",
    "Week2: checked the data and cleaning the dataset <br>\n",
    "Week3: running special R package to plug the data into the model <br>\n",
    "Week4: analyzing the data and trying to get some meaningful insights <br>\n",
    "Week5: discussing the insights and outcomes <br>\n",
    "\n",
    "\n",
    "# Describe my data dictionary\n",
    "\n",
    "My dataset is mainly including two parts: numeric and date/time <br>\n",
    "The attribute name: date along with the stock price from different companies, it's a time series dataset.\n",
    "\n",
    "\n",
    "# Links\n",
    "\n",
    "file:///C:/Users/SongK/Downloads/Physica%2520A%2520491%2520(2018)%2520820%2520(1)%20(4).pdf <br> (Confidential)\n",
    "\n",
    "- Analyzing financial time series to detect early signs for financial crashes <br>\n",
    "- Generating the L-norms graph to present the results <br>\n",
    "\n",
    "\n",
    "file:///C:/Users/SongK/Downloads/L7%2520Notes-2%20(4).pdf <br> (Confidential)\n",
    "\n",
    "- Using TDA R package to deal with complex multidimensional datasets <br>\n",
    "- The goal is to compute persistent homology associated with the datasets <br>\n",
    "\n",
    "\n",
    "# Key Challenges \n",
    "\n",
    "- Managing the timeline and works among my team members <br>\n",
    "- On-time deliver the team tasks <br>\n",
    "- Working with other teams to achieve the ultimate goal <br>\n",
    "- Debugging the code issues and re-checked the dataset <br> "
   ]
  }
 ],
 "metadata": {
  "kernelspec": {
   "display_name": "Python 3",
   "language": "python",
   "name": "python3"
  },
  "language_info": {
   "codemirror_mode": {
    "name": "ipython",
    "version": 3
   },
   "file_extension": ".py",
   "mimetype": "text/x-python",
   "name": "python",
   "nbconvert_exporter": "python",
   "pygments_lexer": "ipython3",
   "version": "3.7.1"
  }
 },
 "nbformat": 4,
 "nbformat_minor": 2
}
